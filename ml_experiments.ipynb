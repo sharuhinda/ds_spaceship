{
 "cells": [
  {
   "cell_type": "code",
   "execution_count": 1,
   "metadata": {},
   "outputs": [],
   "source": [
    "import numpy as np\n",
    "import pandas as pd\n",
    "import matplotlib.pyplot as plt\n",
    "import seaborn as sns"
   ]
  },
  {
   "cell_type": "code",
   "execution_count": 2,
   "metadata": {},
   "outputs": [
    {
     "name": "stdout",
     "output_type": "stream",
     "text": [
      "<class 'pandas.core.frame.DataFrame'>\n",
      "RangeIndex: 8693 entries, 0 to 8692\n",
      "Data columns (total 12 columns):\n",
      " #   Column       Non-Null Count  Dtype  \n",
      "---  ------       --------------  -----  \n",
      " 0   row_id       8693 non-null   int64  \n",
      " 1   HomePlanet   8630 non-null   object \n",
      " 2   Destination  8511 non-null   object \n",
      " 3   CryoSleep    8582 non-null   object \n",
      " 4   Age          8514 non-null   float64\n",
      " 5   VIP          8626 non-null   object \n",
      " 6   TotalSpent   8175 non-null   float64\n",
      " 7   HasGroup     8693 non-null   bool   \n",
      " 8   Deck         8494 non-null   object \n",
      " 9   Side         8494 non-null   object \n",
      " 10  CabinNo      8494 non-null   float64\n",
      " 11  Transported  8693 non-null   bool   \n",
      "dtypes: bool(2), float64(3), int64(1), object(6)\n",
      "memory usage: 696.2+ KB\n"
     ]
    }
   ],
   "source": [
    "df = pd.read_csv('datasets/dataset_train_mod.csv')\n",
    "df.info()"
   ]
  },
  {
   "cell_type": "code",
   "execution_count": 3,
   "metadata": {},
   "outputs": [
    {
     "name": "stdout",
     "output_type": "stream",
     "text": [
      "<class 'pandas.core.frame.DataFrame'>\n",
      "Int64Index: 7447 entries, 0 to 8692\n",
      "Data columns (total 12 columns):\n",
      " #   Column       Non-Null Count  Dtype  \n",
      "---  ------       --------------  -----  \n",
      " 0   row_id       7447 non-null   int64  \n",
      " 1   HomePlanet   7447 non-null   object \n",
      " 2   Destination  7447 non-null   object \n",
      " 3   CryoSleep    7447 non-null   object \n",
      " 4   Age          7447 non-null   float64\n",
      " 5   VIP          7447 non-null   object \n",
      " 6   TotalSpent   7447 non-null   float64\n",
      " 7   HasGroup     7447 non-null   bool   \n",
      " 8   Deck         7447 non-null   object \n",
      " 9   Side         7447 non-null   object \n",
      " 10  CabinNo      7447 non-null   float64\n",
      " 11  Transported  7447 non-null   bool   \n",
      "dtypes: bool(2), float64(3), int64(1), object(6)\n",
      "memory usage: 654.5+ KB\n"
     ]
    }
   ],
   "source": [
    "df = df.dropna(axis=0)\n",
    "df.info()"
   ]
  },
  {
   "cell_type": "code",
   "execution_count": 4,
   "metadata": {},
   "outputs": [
    {
     "data": {
      "text/plain": [
       "True     3836\n",
       "False    3611\n",
       "Name: Transported, dtype: int64"
      ]
     },
     "execution_count": 4,
     "metadata": {},
     "output_type": "execute_result"
    }
   ],
   "source": [
    "df['Transported'].value_counts()"
   ]
  },
  {
   "cell_type": "code",
   "execution_count": 5,
   "metadata": {},
   "outputs": [
    {
     "name": "stdout",
     "output_type": "stream",
     "text": [
      "<class 'pandas.core.frame.DataFrame'>\n",
      "Int64Index: 7447 entries, 0 to 8692\n",
      "Data columns (total 12 columns):\n",
      " #   Column       Non-Null Count  Dtype  \n",
      "---  ------       --------------  -----  \n",
      " 0   row_id       7447 non-null   int64  \n",
      " 1   HomePlanet   7447 non-null   object \n",
      " 2   Destination  7447 non-null   object \n",
      " 3   CryoSleep    7447 non-null   bool   \n",
      " 4   Age          7447 non-null   float64\n",
      " 5   VIP          7447 non-null   bool   \n",
      " 6   TotalSpent   7447 non-null   float64\n",
      " 7   HasGroup     7447 non-null   bool   \n",
      " 8   Deck         7447 non-null   object \n",
      " 9   Side         7447 non-null   object \n",
      " 10  CabinNo      7447 non-null   float64\n",
      " 11  Transported  7447 non-null   bool   \n",
      "dtypes: bool(4), float64(3), int64(1), object(4)\n",
      "memory usage: 552.7+ KB\n"
     ]
    }
   ],
   "source": [
    "df = df.astype({'VIP': bool, 'CryoSleep': bool})\n",
    "df.info()"
   ]
  },
  {
   "cell_type": "code",
   "execution_count": 6,
   "metadata": {},
   "outputs": [
    {
     "data": {
      "text/html": [
       "<div>\n",
       "<style scoped>\n",
       "    .dataframe tbody tr th:only-of-type {\n",
       "        vertical-align: middle;\n",
       "    }\n",
       "\n",
       "    .dataframe tbody tr th {\n",
       "        vertical-align: top;\n",
       "    }\n",
       "\n",
       "    .dataframe thead th {\n",
       "        text-align: right;\n",
       "    }\n",
       "</style>\n",
       "<table border=\"1\" class=\"dataframe\">\n",
       "  <thead>\n",
       "    <tr style=\"text-align: right;\">\n",
       "      <th></th>\n",
       "      <th>row_id</th>\n",
       "      <th>HomePlanet</th>\n",
       "      <th>Destination</th>\n",
       "      <th>CryoSleep</th>\n",
       "      <th>Age</th>\n",
       "      <th>VIP</th>\n",
       "      <th>TotalSpent</th>\n",
       "      <th>HasGroup</th>\n",
       "      <th>Deck</th>\n",
       "      <th>Side</th>\n",
       "      <th>CabinNo</th>\n",
       "      <th>Transported</th>\n",
       "    </tr>\n",
       "  </thead>\n",
       "  <tbody>\n",
       "    <tr>\n",
       "      <th>0</th>\n",
       "      <td>0</td>\n",
       "      <td>Europa</td>\n",
       "      <td>Trappist</td>\n",
       "      <td>False</td>\n",
       "      <td>39.0</td>\n",
       "      <td>False</td>\n",
       "      <td>0.0</td>\n",
       "      <td>False</td>\n",
       "      <td>B</td>\n",
       "      <td>P</td>\n",
       "      <td>0.0</td>\n",
       "      <td>False</td>\n",
       "    </tr>\n",
       "    <tr>\n",
       "      <th>1</th>\n",
       "      <td>1</td>\n",
       "      <td>Earth</td>\n",
       "      <td>Trappist</td>\n",
       "      <td>False</td>\n",
       "      <td>24.0</td>\n",
       "      <td>False</td>\n",
       "      <td>736.0</td>\n",
       "      <td>False</td>\n",
       "      <td>F</td>\n",
       "      <td>S</td>\n",
       "      <td>0.0</td>\n",
       "      <td>True</td>\n",
       "    </tr>\n",
       "    <tr>\n",
       "      <th>2</th>\n",
       "      <td>2</td>\n",
       "      <td>Europa</td>\n",
       "      <td>Trappist</td>\n",
       "      <td>False</td>\n",
       "      <td>58.0</td>\n",
       "      <td>True</td>\n",
       "      <td>10383.0</td>\n",
       "      <td>True</td>\n",
       "      <td>A</td>\n",
       "      <td>S</td>\n",
       "      <td>0.0</td>\n",
       "      <td>False</td>\n",
       "    </tr>\n",
       "    <tr>\n",
       "      <th>3</th>\n",
       "      <td>3</td>\n",
       "      <td>Europa</td>\n",
       "      <td>Trappist</td>\n",
       "      <td>False</td>\n",
       "      <td>33.0</td>\n",
       "      <td>False</td>\n",
       "      <td>5176.0</td>\n",
       "      <td>True</td>\n",
       "      <td>A</td>\n",
       "      <td>S</td>\n",
       "      <td>0.0</td>\n",
       "      <td>False</td>\n",
       "    </tr>\n",
       "    <tr>\n",
       "      <th>4</th>\n",
       "      <td>4</td>\n",
       "      <td>Earth</td>\n",
       "      <td>Trappist</td>\n",
       "      <td>False</td>\n",
       "      <td>16.0</td>\n",
       "      <td>False</td>\n",
       "      <td>1091.0</td>\n",
       "      <td>False</td>\n",
       "      <td>F</td>\n",
       "      <td>S</td>\n",
       "      <td>1.0</td>\n",
       "      <td>True</td>\n",
       "    </tr>\n",
       "    <tr>\n",
       "      <th>...</th>\n",
       "      <td>...</td>\n",
       "      <td>...</td>\n",
       "      <td>...</td>\n",
       "      <td>...</td>\n",
       "      <td>...</td>\n",
       "      <td>...</td>\n",
       "      <td>...</td>\n",
       "      <td>...</td>\n",
       "      <td>...</td>\n",
       "      <td>...</td>\n",
       "      <td>...</td>\n",
       "      <td>...</td>\n",
       "    </tr>\n",
       "    <tr>\n",
       "      <th>8688</th>\n",
       "      <td>8688</td>\n",
       "      <td>Europa</td>\n",
       "      <td>Cancri</td>\n",
       "      <td>False</td>\n",
       "      <td>41.0</td>\n",
       "      <td>True</td>\n",
       "      <td>8536.0</td>\n",
       "      <td>False</td>\n",
       "      <td>A</td>\n",
       "      <td>P</td>\n",
       "      <td>98.0</td>\n",
       "      <td>False</td>\n",
       "    </tr>\n",
       "    <tr>\n",
       "      <th>8689</th>\n",
       "      <td>8689</td>\n",
       "      <td>Earth</td>\n",
       "      <td>PSO</td>\n",
       "      <td>True</td>\n",
       "      <td>18.0</td>\n",
       "      <td>False</td>\n",
       "      <td>0.0</td>\n",
       "      <td>False</td>\n",
       "      <td>G</td>\n",
       "      <td>S</td>\n",
       "      <td>1499.0</td>\n",
       "      <td>False</td>\n",
       "    </tr>\n",
       "    <tr>\n",
       "      <th>8690</th>\n",
       "      <td>8690</td>\n",
       "      <td>Earth</td>\n",
       "      <td>Trappist</td>\n",
       "      <td>False</td>\n",
       "      <td>26.0</td>\n",
       "      <td>False</td>\n",
       "      <td>1873.0</td>\n",
       "      <td>False</td>\n",
       "      <td>G</td>\n",
       "      <td>S</td>\n",
       "      <td>1500.0</td>\n",
       "      <td>True</td>\n",
       "    </tr>\n",
       "    <tr>\n",
       "      <th>8691</th>\n",
       "      <td>8691</td>\n",
       "      <td>Europa</td>\n",
       "      <td>Cancri</td>\n",
       "      <td>False</td>\n",
       "      <td>32.0</td>\n",
       "      <td>False</td>\n",
       "      <td>4637.0</td>\n",
       "      <td>True</td>\n",
       "      <td>E</td>\n",
       "      <td>S</td>\n",
       "      <td>608.0</td>\n",
       "      <td>False</td>\n",
       "    </tr>\n",
       "    <tr>\n",
       "      <th>8692</th>\n",
       "      <td>8692</td>\n",
       "      <td>Europa</td>\n",
       "      <td>Trappist</td>\n",
       "      <td>False</td>\n",
       "      <td>44.0</td>\n",
       "      <td>False</td>\n",
       "      <td>4826.0</td>\n",
       "      <td>True</td>\n",
       "      <td>E</td>\n",
       "      <td>S</td>\n",
       "      <td>608.0</td>\n",
       "      <td>True</td>\n",
       "    </tr>\n",
       "  </tbody>\n",
       "</table>\n",
       "<p>7447 rows × 12 columns</p>\n",
       "</div>"
      ],
      "text/plain": [
       "      row_id HomePlanet Destination  CryoSleep   Age    VIP  TotalSpent  \\\n",
       "0          0     Europa    Trappist      False  39.0  False         0.0   \n",
       "1          1      Earth    Trappist      False  24.0  False       736.0   \n",
       "2          2     Europa    Trappist      False  58.0   True     10383.0   \n",
       "3          3     Europa    Trappist      False  33.0  False      5176.0   \n",
       "4          4      Earth    Trappist      False  16.0  False      1091.0   \n",
       "...      ...        ...         ...        ...   ...    ...         ...   \n",
       "8688    8688     Europa      Cancri      False  41.0   True      8536.0   \n",
       "8689    8689      Earth         PSO       True  18.0  False         0.0   \n",
       "8690    8690      Earth    Trappist      False  26.0  False      1873.0   \n",
       "8691    8691     Europa      Cancri      False  32.0  False      4637.0   \n",
       "8692    8692     Europa    Trappist      False  44.0  False      4826.0   \n",
       "\n",
       "      HasGroup Deck Side  CabinNo  Transported  \n",
       "0        False    B    P      0.0        False  \n",
       "1        False    F    S      0.0         True  \n",
       "2         True    A    S      0.0        False  \n",
       "3         True    A    S      0.0        False  \n",
       "4        False    F    S      1.0         True  \n",
       "...        ...  ...  ...      ...          ...  \n",
       "8688     False    A    P     98.0        False  \n",
       "8689     False    G    S   1499.0        False  \n",
       "8690     False    G    S   1500.0         True  \n",
       "8691      True    E    S    608.0        False  \n",
       "8692      True    E    S    608.0         True  \n",
       "\n",
       "[7447 rows x 12 columns]"
      ]
     },
     "execution_count": 6,
     "metadata": {},
     "output_type": "execute_result"
    }
   ],
   "source": [
    "def code_dest(x):\n",
    "    dest_codes = {'TRAPPIST-1e': 'Trappist', '55 Cancri e': 'Cancri', 'PSO J318.5-22': 'PSO'}\n",
    "    return dest_codes[x]\n",
    "df['Destination'] = df['Destination'].apply(code_dest)\n",
    "df"
   ]
  },
  {
   "cell_type": "code",
   "execution_count": 7,
   "metadata": {},
   "outputs": [
    {
     "name": "stdout",
     "output_type": "stream",
     "text": [
      "<class 'pandas.core.frame.DataFrame'>\n",
      "Int64Index: 7447 entries, 0 to 8692\n",
      "Data columns (total 9 columns):\n",
      " #   Column       Non-Null Count  Dtype  \n",
      "---  ------       --------------  -----  \n",
      " 0   HomePlanet   7447 non-null   object \n",
      " 1   Destination  7447 non-null   object \n",
      " 2   CryoSleep    7447 non-null   bool   \n",
      " 3   Age          7447 non-null   float64\n",
      " 4   VIP          7447 non-null   bool   \n",
      " 5   TotalSpent   7447 non-null   float64\n",
      " 6   HasGroup     7447 non-null   bool   \n",
      " 7   Deck         7447 non-null   object \n",
      " 8   Side         7447 non-null   object \n",
      "dtypes: bool(3), float64(2), object(4)\n",
      "memory usage: 429.1+ KB\n",
      "None\n",
      "<class 'pandas.core.series.Series'>\n",
      "Int64Index: 7447 entries, 0 to 8692\n",
      "Series name: Transported\n",
      "Non-Null Count  Dtype\n",
      "--------------  -----\n",
      "7447 non-null   bool \n",
      "dtypes: bool(1)\n",
      "memory usage: 65.5 KB\n",
      "None\n"
     ]
    }
   ],
   "source": [
    "feature_columns = list(df.columns)[1:10]\n",
    "X_total = df[feature_columns]\n",
    "y_total = df['Transported']\n",
    "print(X_total.info())\n",
    "print(y_total.info())"
   ]
  },
  {
   "cell_type": "code",
   "execution_count": 8,
   "metadata": {},
   "outputs": [
    {
     "name": "stdout",
     "output_type": "stream",
     "text": [
      "<class 'pandas.core.frame.DataFrame'>\n",
      "Int64Index: 7447 entries, 0 to 8692\n",
      "Data columns (total 21 columns):\n",
      " #   Column         Non-Null Count  Dtype  \n",
      "---  ------         --------------  -----  \n",
      " 0   CryoSleep      7447 non-null   bool   \n",
      " 1   Age            7447 non-null   float64\n",
      " 2   VIP            7447 non-null   bool   \n",
      " 3   TotalSpent     7447 non-null   float64\n",
      " 4   HasGroup       7447 non-null   bool   \n",
      " 5   Home_Earth     7447 non-null   uint8  \n",
      " 6   Home_Europa    7447 non-null   uint8  \n",
      " 7   Home_Mars      7447 non-null   uint8  \n",
      " 8   Dest_Cancri    7447 non-null   uint8  \n",
      " 9   Dest_PSO       7447 non-null   uint8  \n",
      " 10  Dest_Trappist  7447 non-null   uint8  \n",
      " 11  Deck_A         7447 non-null   uint8  \n",
      " 12  Deck_B         7447 non-null   uint8  \n",
      " 13  Deck_C         7447 non-null   uint8  \n",
      " 14  Deck_D         7447 non-null   uint8  \n",
      " 15  Deck_E         7447 non-null   uint8  \n",
      " 16  Deck_F         7447 non-null   uint8  \n",
      " 17  Deck_G         7447 non-null   uint8  \n",
      " 18  Deck_T         7447 non-null   uint8  \n",
      " 19  Side_P         7447 non-null   uint8  \n",
      " 20  Side_S         7447 non-null   uint8  \n",
      "dtypes: bool(3), float64(2), uint8(16)\n",
      "memory usage: 312.7 KB\n"
     ]
    }
   ],
   "source": [
    "X_total = pd.get_dummies(X_total, columns=['HomePlanet', 'Destination', 'Deck', 'Side'], prefix=['Home', 'Dest', 'Deck', 'Side'])\n",
    "X_total.info()"
   ]
  },
  {
   "cell_type": "markdown",
   "metadata": {},
   "source": [
    "### Testing different classificator types"
   ]
  },
  {
   "cell_type": "code",
   "execution_count": 23,
   "metadata": {},
   "outputs": [],
   "source": [
    "from sklearn.model_selection import train_test_split, cross_val_score, validation_curve\n",
    "from sklearn.preprocessing import MinMaxScaler"
   ]
  },
  {
   "cell_type": "code",
   "execution_count": 11,
   "metadata": {},
   "outputs": [],
   "source": [
    "X_train, X_test, y_train, y_test = train_test_split(X_total, y_total, random_state=0)"
   ]
  },
  {
   "cell_type": "markdown",
   "metadata": {},
   "source": [
    "#### kNN model"
   ]
  },
  {
   "cell_type": "code",
   "execution_count": 12,
   "metadata": {},
   "outputs": [],
   "source": [
    "from sklearn.neighbors import KNeighborsClassifier"
   ]
  },
  {
   "cell_type": "code",
   "execution_count": 13,
   "metadata": {},
   "outputs": [],
   "source": [
    "scaler = MinMaxScaler()"
   ]
  },
  {
   "cell_type": "code",
   "execution_count": 14,
   "metadata": {},
   "outputs": [
    {
     "data": {
      "text/plain": [
       "KNeighborsClassifier()"
      ]
     },
     "execution_count": 14,
     "metadata": {},
     "output_type": "execute_result"
    }
   ],
   "source": [
    "knn = KNeighborsClassifier(n_neighbors=5)\n",
    "knn.fit(X_train, y_train)"
   ]
  },
  {
   "cell_type": "code",
   "execution_count": 15,
   "metadata": {},
   "outputs": [
    {
     "name": "stdout",
     "output_type": "stream",
     "text": [
      "Train set accuracy: 0.79\n",
      "Test set accuracy: 0.72\n"
     ]
    }
   ],
   "source": [
    "print('Train set accuracy: {:.2f}'.format(knn.score(X_train, y_train)))\n",
    "print('Test set accuracy: {:.2f}'.format(knn.score(X_test, y_test)))"
   ]
  },
  {
   "cell_type": "code",
   "execution_count": 16,
   "metadata": {},
   "outputs": [],
   "source": [
    "X_train_scaled = scaler.fit_transform(X_train)\n",
    "X_test_scaled = scaler.transform(X_test)"
   ]
  },
  {
   "cell_type": "code",
   "execution_count": 17,
   "metadata": {},
   "outputs": [
    {
     "data": {
      "text/plain": [
       "array([[0.        , 0.27848101, 0.        , ..., 0.        , 1.        ,\n",
       "        0.        ],\n",
       "       [0.        , 0.25316456, 0.        , ..., 0.        , 1.        ,\n",
       "        0.        ],\n",
       "       [1.        , 0.3164557 , 0.        , ..., 0.        , 1.        ,\n",
       "        0.        ],\n",
       "       ...,\n",
       "       [0.        , 0.29113924, 0.        , ..., 0.        , 0.        ,\n",
       "        1.        ],\n",
       "       [1.        , 0.51898734, 0.        , ..., 0.        , 1.        ,\n",
       "        0.        ],\n",
       "       [1.        , 0.55696203, 0.        , ..., 0.        , 0.        ,\n",
       "        1.        ]])"
      ]
     },
     "execution_count": 17,
     "metadata": {},
     "output_type": "execute_result"
    }
   ],
   "source": [
    "X_train_scaled"
   ]
  },
  {
   "cell_type": "code",
   "execution_count": 18,
   "metadata": {},
   "outputs": [
    {
     "data": {
      "text/plain": [
       "KNeighborsClassifier()"
      ]
     },
     "execution_count": 18,
     "metadata": {},
     "output_type": "execute_result"
    }
   ],
   "source": [
    "knn.fit(X_train_scaled, y_train)"
   ]
  },
  {
   "cell_type": "code",
   "execution_count": 19,
   "metadata": {},
   "outputs": [
    {
     "name": "stdout",
     "output_type": "stream",
     "text": [
      "After \"Age\" and \"TotalSpent\" normalized\n",
      "Train set accuracy: 0.80\n",
      "Test set accuracy: 0.72\n"
     ]
    }
   ],
   "source": [
    "print('After \"Age\" and \"TotalSpent\" normalized')\n",
    "print('Train set accuracy: {:.2f}'.format(knn.score(X_train_scaled, y_train)))\n",
    "print('Test set accuracy: {:.2f}'.format(knn.score(X_test_scaled, y_test)))"
   ]
  },
  {
   "cell_type": "markdown",
   "metadata": {},
   "source": [
    "##### Cross-validation test"
   ]
  },
  {
   "cell_type": "code",
   "execution_count": 20,
   "metadata": {},
   "outputs": [
    {
     "data": {
      "text/plain": [
       "array([0.71006711, 0.69127517, 0.7033557 , 0.71543624, 0.70738255,\n",
       "       0.71543624, 0.70067114, 0.72580645, 0.70833333, 0.70430108])"
      ]
     },
     "execution_count": 20,
     "metadata": {},
     "output_type": "execute_result"
    }
   ],
   "source": [
    "cv_scores = cross_val_score(knn, X_total, y_total, cv=10)\n",
    "cv_scores"
   ]
  },
  {
   "cell_type": "code",
   "execution_count": 21,
   "metadata": {},
   "outputs": [
    {
     "data": {
      "text/plain": [
       "[1, 3, 5, 7, 9, 11]"
      ]
     },
     "execution_count": 21,
     "metadata": {},
     "output_type": "execute_result"
    }
   ],
   "source": [
    "param_range = [x for x in range(1, 12, 2)]\n",
    "param_range"
   ]
  },
  {
   "cell_type": "code",
   "execution_count": 24,
   "metadata": {},
   "outputs": [],
   "source": [
    "train_scores, test_scores = validation_curve(knn, X_total, y_total, param_name='n_neighbors', param_range=param_range, cv=5)"
   ]
  },
  {
   "cell_type": "code",
   "execution_count": 25,
   "metadata": {},
   "outputs": [
    {
     "name": "stdout",
     "output_type": "stream",
     "text": [
      "Train_scores:\n",
      " [[0.93570589 0.93973477 0.93554884 0.93370258 0.93588453]\n",
      " [0.82424039 0.82692631 0.82091306 0.81453508 0.81537429]\n",
      " [0.79016283 0.79435958 0.79909366 0.78566633 0.78986237]\n",
      " [0.78093    0.77824408 0.77811346 0.77240685 0.77492447]\n",
      " [0.77555817 0.77136142 0.76972138 0.75981873 0.76770728]\n",
      " [0.76598959 0.76750042 0.76317556 0.76082578 0.76351125]]\n",
      "Test scores:\n",
      " [[0.68255034 0.6704698  0.65278711 0.67427804 0.67159167]\n",
      " [0.68120805 0.69261745 0.68703828 0.69644056 0.69241101]\n",
      " [0.70469799 0.69798658 0.70315648 0.7179315  0.70852921]\n",
      " [0.70671141 0.71006711 0.70785762 0.72800537 0.71927468]\n",
      " [0.70939597 0.71409396 0.71323036 0.73136333 0.72867696]\n",
      " [0.71208054 0.71677852 0.71658831 0.74143721 0.73539288]]\n"
     ]
    }
   ],
   "source": [
    "print('Train_scores:\\n', train_scores)\n",
    "print('Test scores:\\n', test_scores)"
   ]
  },
  {
   "cell_type": "code",
   "execution_count": 26,
   "metadata": {},
   "outputs": [],
   "source": [
    "train_scores_mean = np.mean(train_scores, axis=1)\n",
    "train_scores_std = np.std(train_scores, axis=1)\n",
    "test_scores_mean = np.mean(test_scores, axis=1)\n",
    "test_scores_std = np.std(test_scores, axis=1)"
   ]
  },
  {
   "cell_type": "code",
   "execution_count": 37,
   "metadata": {},
   "outputs": [
    {
     "data": {
      "text/plain": [
       "<matplotlib.legend.Legend at 0x21933647130>"
      ]
     },
     "execution_count": 37,
     "metadata": {},
     "output_type": "execute_result"
    },
    {
     "data": {
      "image/png": "[encoded data removed]",
      "text/plain": [
       "<Figure size 432x288 with 1 Axes>"
      ]
     },
     "metadata": {
      "needs_background": "light"
     },
     "output_type": "display_data"
    }
   ],
   "source": [
    "plt.figure()\n",
    "plt.title('Validation curve with kNN')\n",
    "plt.xlabel('n_neighbors')\n",
    "plt.ylabel('Score')\n",
    "plt.ylim(0.5, 1.1)\n",
    "lw = 2\n",
    "plt.plot(\n",
    "    param_range,\n",
    "    train_scores_mean,\n",
    "    label='Training score',\n",
    "    color='darkorange', lw=lw\n",
    ")\n",
    "plt.fill_between(\n",
    "    param_range,\n",
    "    train_scores_mean - train_scores_std,\n",
    "    train_scores_mean + train_scores_std,\n",
    "    alpha=0.2, color='darkorange', lw=lw\n",
    ")\n",
    "plt.plot(\n",
    "    param_range,\n",
    "    test_scores_mean,\n",
    "    label='Testing score',\n",
    "    color='navy', lw=lw\n",
    ")\n",
    "plt.fill_between(\n",
    "    param_range,\n",
    "    test_scores_mean - test_scores_std,\n",
    "    test_scores_mean + test_scores_std,\n",
    "    alpha=0.2, color='navy', lw=lw\n",
    ")\n",
    "plt.legend(loc='best')"
   ]
  },
  {
   "cell_type": "markdown",
   "metadata": {},
   "source": [
    "#### Decision Tree Classifier"
   ]
  },
  {
   "cell_type": "code",
   "execution_count": null,
   "metadata": {},
   "outputs": [],
   "source": []
  }
 ],
 "metadata": {
  "interpreter": {
   "hash": "a78f9a48f23c0fd8110a0c665428dbe014dac5d712a071a3ac662d1797a97f66"
  },
  "kernelspec": {
   "display_name": "Python 3.9.7 ('DataScience')",
   "language": "python",
   "name": "python3"
  },
  "language_info": {
   "codemirror_mode": {
    "name": "ipython",
    "version": 3
   },
   "file_extension": ".py",
   "mimetype": "text/x-python",
   "name": "python",
   "nbconvert_exporter": "python",
   "pygments_lexer": "ipython3",
   "version": "3.9.7"
  },
  "orig_nbformat": 4
 },
 "nbformat": 4,
 "nbformat_minor": 2
}
